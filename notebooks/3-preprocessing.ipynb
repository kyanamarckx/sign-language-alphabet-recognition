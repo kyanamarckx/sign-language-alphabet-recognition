{
 "cells": [
  {
   "cell_type": "markdown",
   "id": "510aac6a",
   "metadata": {},
   "source": [
    "# **3 - Preprocessing**"
   ]
  },
  {
   "cell_type": "markdown",
   "id": "f1d125fe",
   "metadata": {},
   "source": [
    "## Imports"
   ]
  },
  {
   "cell_type": "code",
   "execution_count": 86,
   "id": "14a070d3",
   "metadata": {},
   "outputs": [],
   "source": [
    "import mediapipe as mp\n",
    "import pandas as pd\n",
    "import cv2\n",
    "import json\n",
    "import os\n",
    "import numpy as np\n",
    "import matplotlib.pyplot as plt\n",
    "\n",
    "from tqdm import tqdm\n",
    "from sklearn.preprocessing import StandardScaler"
   ]
  },
  {
   "cell_type": "markdown",
   "id": "e8fea4c8",
   "metadata": {},
   "source": [
    "## Predefined variables"
   ]
  },
  {
   "cell_type": "code",
   "execution_count": 87,
   "id": "daa649cc",
   "metadata": {},
   "outputs": [],
   "source": [
    "CSV_SAVE_PATH = \"../saved/\"\n",
    "NPZ_SAVE_PATH = \"../saved/\""
   ]
  },
  {
   "cell_type": "markdown",
   "id": "b230e5a4",
   "metadata": {},
   "source": [
    "## Mapping between IDs and labels in dataset"
   ]
  },
  {
   "cell_type": "code",
   "execution_count": 88,
   "id": "ede3ae64",
   "metadata": {},
   "outputs": [],
   "source": [
    "dataset_dir_train = '../data/American Sign Language Letters.v1-v1.coco/train'\n",
    "dataset_dir_test = '../data/American Sign Language Letters.v1-v1.coco/test'\n",
    "dataset_dir_val = '../data/American Sign Language Letters.v1-v1.coco/valid'\n",
    "\n",
    "json_path = os.path.join(dataset_dir_train, '_annotations.coco.json')"
   ]
  },
  {
   "cell_type": "code",
   "execution_count": 89,
   "id": "188da977",
   "metadata": {},
   "outputs": [],
   "source": [
    "with open(json_path, 'r') as f:\n",
    "    coco = json.load(f)"
   ]
  },
  {
   "cell_type": "code",
   "execution_count": 90,
   "id": "9bf0f845",
   "metadata": {},
   "outputs": [],
   "source": [
    "id_to_filename = {image['id']: image['file_name'] for image in coco['images']}\n",
    "id_to_label = {category['id']: category['name'] for category in coco['categories']}"
   ]
  },
  {
   "cell_type": "code",
   "execution_count": 91,
   "id": "94d457c2",
   "metadata": {},
   "outputs": [],
   "source": [
    "image_to_label = {}\n",
    "for annotation in coco['annotations']:\n",
    "    image_id = annotation['image_id']\n",
    "    category_id = annotation['category_id']\n",
    "    if image_id in id_to_filename:\n",
    "        image_to_label[image_id] = id_to_label[category_id]"
   ]
  },
  {
   "cell_type": "markdown",
   "id": "be2e42aa",
   "metadata": {},
   "source": [
    "## Landmarks with MediaPipe"
   ]
  },
  {
   "cell_type": "code",
   "execution_count": 92,
   "id": "6a27eede",
   "metadata": {},
   "outputs": [],
   "source": [
    "mp_hands = mp.solutions.hands\n",
    "hands = mp_hands.Hands(static_image_mode=True, max_num_hands=1)\n",
    "mp_drawing = mp.solutions.drawing_utils"
   ]
  },
  {
   "cell_type": "code",
   "execution_count": 93,
   "id": "8c998527",
   "metadata": {},
   "outputs": [
    {
     "name": "stdout",
     "output_type": "stream",
     "text": [
      "Processing train folder: 1512 images\n"
     ]
    },
    {
     "name": "stderr",
     "output_type": "stream",
     "text": [
      "Processing train:   0%|          | 0/1512 [00:00<?, ?it/s]"
     ]
    },
    {
     "name": "stderr",
     "output_type": "stream",
     "text": [
      "Processing train: 100%|██████████| 1512/1512 [00:53<00:00, 28.51it/s]\n",
      "Processing train: 100%|██████████| 1512/1512 [00:53<00:00, 28.51it/s]\n"
     ]
    },
    {
     "name": "stdout",
     "output_type": "stream",
     "text": [
      "Processing test folder: 72 images\n"
     ]
    },
    {
     "name": "stderr",
     "output_type": "stream",
     "text": [
      "Processing test: 100%|██████████| 72/72 [00:02<00:00, 27.67it/s]\n",
      "Processing test: 100%|██████████| 72/72 [00:02<00:00, 27.67it/s]\n"
     ]
    },
    {
     "name": "stdout",
     "output_type": "stream",
     "text": [
      "Processing validation folder: 144 images\n"
     ]
    },
    {
     "name": "stderr",
     "output_type": "stream",
     "text": [
      "Processing validation: 100%|██████████| 144/144 [00:05<00:00, 26.59it/s]\n",
      "Processing validation: 100%|██████████| 144/144 [00:05<00:00, 26.59it/s]\n"
     ]
    }
   ],
   "source": [
    "def process_folder(folder_path, dataset_type):\n",
    "    data = []\n",
    "    json_path = os.path.join(folder_path, '_annotations.coco.json')\n",
    "    \n",
    "    with open(json_path, 'r') as f:\n",
    "        coco = json.load(f)\n",
    "    \n",
    "    # Create mappings for this folder\n",
    "    id_to_filename = {image['id']: image['file_name'] for image in coco['images']}\n",
    "    id_to_label = {category['id']: category['name'] for category in coco['categories']}\n",
    "    \n",
    "    image_to_label = {}\n",
    "    for annotation in coco['annotations']:\n",
    "        image_id = annotation['image_id']\n",
    "        category_id = annotation['category_id']\n",
    "        if image_id in id_to_filename:\n",
    "            image_to_label[image_id] = id_to_label[category_id]\n",
    "    \n",
    "    print(f\"Processing {dataset_type} folder: {len(image_to_label)} images\")\n",
    "    \n",
    "    for image_id, label in tqdm(image_to_label.items(), desc=f\"Processing {dataset_type}\"):\n",
    "        filename = id_to_filename[image_id]\n",
    "        image_path = os.path.join(folder_path, filename)\n",
    "\n",
    "        image = cv2.imread(image_path)\n",
    "        if image is None:\n",
    "            continue\n",
    "        image_rgb = cv2.cvtColor(image, cv2.COLOR_BGR2RGB)\n",
    "\n",
    "        result = hands.process(image_rgb)\n",
    "        if not result.multi_hand_landmarks:\n",
    "            continue\n",
    "\n",
    "        landmarks = result.multi_hand_landmarks[0]\n",
    "        row = []\n",
    "\n",
    "        for lm in landmarks.landmark:\n",
    "            row.extend([lm.x, lm.y, lm.z])\n",
    "            \n",
    "        row.append(label)\n",
    "        data.append(row)\n",
    "    \n",
    "    return data\n",
    "\n",
    "# Process all three folders\n",
    "train_data = process_folder(dataset_dir_train, \"train\")\n",
    "test_data = process_folder(dataset_dir_test, \"test\") \n",
    "valid_data = process_folder(dataset_dir_val, \"validation\")\n",
    "\n",
    "hands.close()"
   ]
  },
  {
   "cell_type": "markdown",
   "id": "8e9a4d53",
   "metadata": {},
   "source": [
    "## Create separate datasets and save to CSV"
   ]
  },
  {
   "cell_type": "markdown",
   "id": "0a70de5a",
   "metadata": {},
   "source": [
    "### Some print statements to check before we start"
   ]
  },
  {
   "cell_type": "code",
   "execution_count": 94,
   "id": "366ca8b5",
   "metadata": {},
   "outputs": [
    {
     "name": "stdout",
     "output_type": "stream",
     "text": [
      "Checking raw data structure:\n",
      "Train data sample length: 64\n",
      "Test data sample length: 64\n",
      "Validation data sample length: 64\n",
      "\n",
      "----------------------------------------\n",
      "\n",
      "Sample train data structure:\n",
      "First 5 values: [0.4179784655570984, 0.936383843421936, 1.6635594874969684e-06, 0.34161561727523804, 0.9230197072029114]\n",
      "Last 5 values: [-0.44095855951309204, 0.6528101563453674, 0.8705712556838989, -0.4494030475616455, 'U']\n",
      "Should be: 63 landmarks + 1 label = 64 total, got 64\n",
      "\n",
      "----------------------------------------\n",
      "\n",
      "Sample test data structure:\n",
      "First 5 values: [0.8338124752044678, 0.6320958137512207, 2.2795359200245002e-07, 0.8202306032180786, 0.5194770693778992]\n",
      "Last 5 values: [-0.0723734125494957, 0.5590866804122925, 0.689557671546936, -0.046369072049856186, 'G']\n",
      "Should be: 63 landmarks + 1 label = 64 total, got 64\n",
      "\n",
      "----------------------------------------\n",
      "\n",
      "Sample validation data structure:\n",
      "First 5 values: [0.513287365436554, 0.954075813293457, 4.4877177174384997e-07, 0.6415529847145081, 0.8538914918899536]\n",
      "Last 5 values: [-0.10446508973836899, 0.4583413302898407, 0.6341378688812256, -0.08320552855730057, 'D']\n",
      "Should be: 63 landmarks + 1 label = 64 total, got 64\n"
     ]
    }
   ],
   "source": [
    "print(\"Checking raw data structure:\")\n",
    "print(f\"Train data sample length: {len(train_data[0]) if train_data else 0}\")\n",
    "print(f\"Test data sample length: {len(test_data[0]) if test_data else 0}\")\n",
    "print(f\"Validation data sample length: {len(valid_data[0]) if valid_data else 0}\")\n",
    "\n",
    "print(\"\\n\" + \"-\"*40 + \"\\n\")\n",
    "\n",
    "if train_data:\n",
    "    sample = train_data[0]\n",
    "    print(f\"Sample train data structure:\")\n",
    "    print(f\"First 5 values: {sample[:5]}\")\n",
    "    print(f\"Last 5 values: {sample[-5:]}\")\n",
    "    print(f\"Should be: 63 landmarks + 1 label = 64 total, got {len(sample)}\")\n",
    "\n",
    "print(\"\\n\" + \"-\"*40 + \"\\n\")\n",
    "\n",
    "if test_data:\n",
    "    sample = test_data[0]\n",
    "    print(f\"Sample test data structure:\")\n",
    "    print(f\"First 5 values: {sample[:5]}\")\n",
    "    print(f\"Last 5 values: {sample[-5:]}\")\n",
    "    print(f\"Should be: 63 landmarks + 1 label = 64 total, got {len(sample)}\")\n",
    "\n",
    "print(\"\\n\" + \"-\"*40 + \"\\n\")\n",
    "\n",
    "if valid_data:\n",
    "    sample = valid_data[0]\n",
    "    print(f\"Sample validation data structure:\")\n",
    "    print(f\"First 5 values: {sample[:5]}\")\n",
    "    print(f\"Last 5 values: {sample[-5:]}\")\n",
    "    print(f\"Should be: 63 landmarks + 1 label = 64 total, got {len(sample)}\")"
   ]
  },
  {
   "cell_type": "markdown",
   "id": "b849aa59",
   "metadata": {},
   "source": [
    "### First fix the data structure"
   ]
  },
  {
   "cell_type": "code",
   "execution_count": 95,
   "id": "5f262aa0",
   "metadata": {},
   "outputs": [],
   "source": [
    "def fix_data_structure(data):\n",
    "    fixed_data = []\n",
    "    for row in data:\n",
    "        if len(row) == 64:  # 63 features + 1 label\n",
    "            fixed_data.append(row)\n",
    "        else:\n",
    "            print(f\"Warning: Unexpected row length {len(row)}, skipping...\")\n",
    "    return fixed_data"
   ]
  },
  {
   "cell_type": "code",
   "execution_count": 96,
   "id": "cfa34c80",
   "metadata": {},
   "outputs": [
    {
     "name": "stdout",
     "output_type": "stream",
     "text": [
      "Fixing data structure...\n",
      "Fixed train data: 1205 samples\n",
      "Fixed test data: 61 samples\n",
      "Fixed valid data: 133 samples\n",
      "\n",
      "Fixed sample structure:\n",
      "Length: 64\n",
      "Last value (label): U\n"
     ]
    }
   ],
   "source": [
    "print(\"Fixing data structure...\")\n",
    "train_data_fixed = fix_data_structure(train_data)\n",
    "test_data_fixed = fix_data_structure(test_data)\n",
    "valid_data_fixed = fix_data_structure(valid_data)\n",
    "\n",
    "print(f\"Fixed train data: {len(train_data_fixed)} samples\")\n",
    "print(f\"Fixed test data: {len(test_data_fixed)} samples\")\n",
    "print(f\"Fixed valid data: {len(valid_data_fixed)} samples\")\n",
    "\n",
    "\n",
    "# Check first fixed sample\n",
    "if train_data_fixed:\n",
    "    sample = train_data_fixed[0]\n",
    "    print(f\"\\nFixed sample structure:\")\n",
    "    print(f\"Length: {len(sample)}\")\n",
    "    print(f\"Last value (label): {sample[-1]}\")"
   ]
  },
  {
   "cell_type": "markdown",
   "id": "e6a35c48",
   "metadata": {},
   "source": [
    "### Create dataframes for each split"
   ]
  },
  {
   "cell_type": "code",
   "execution_count": 97,
   "id": "107e4797",
   "metadata": {},
   "outputs": [],
   "source": [
    "train_df = pd.DataFrame(train_data_fixed)\n",
    "test_df = pd.DataFrame(test_data_fixed)\n",
    "valid_df = pd.DataFrame(valid_data_fixed)"
   ]
  },
  {
   "cell_type": "markdown",
   "id": "0713630b",
   "metadata": {},
   "source": [
    "### Save and combine the dataframes to one CSV-file"
   ]
  },
  {
   "cell_type": "code",
   "execution_count": 98,
   "id": "366b65e3",
   "metadata": {},
   "outputs": [
    {
     "name": "stdout",
     "output_type": "stream",
     "text": [
      "\n",
      "Saved training data: 1205 samples\n",
      "Saved test data: 61 samples\n",
      "Saved validation data: 133 samples\n",
      "Saved combined data: 1399 samples to ../saved/sign_language_data.csv\n",
      "Saved combined data: 1399 samples to ../saved/sign_language_data.csv\n"
     ]
    }
   ],
   "source": [
    "train_df.to_csv(f'{CSV_SAVE_PATH}sign_language_train.csv', index=False)\n",
    "test_df.to_csv(f'{CSV_SAVE_PATH}sign_language_test.csv', index=False)\n",
    "valid_df.to_csv(f'{CSV_SAVE_PATH}sign_language_valid.csv', index=False)\n",
    "\n",
    "print(f\"\\nSaved training data: {len(train_df)} samples\")\n",
    "print(f\"Saved test data: {len(test_df)} samples\") \n",
    "print(f\"Saved validation data: {len(valid_df)} samples\")\n",
    "\n",
    "\n",
    "all_data_fixed = train_data_fixed + test_data_fixed + valid_data_fixed\n",
    "df = pd.DataFrame(all_data_fixed)\n",
    "df.to_csv(f'{CSV_SAVE_PATH}sign_language_data.csv', index=False)\n",
    "print(f\"Saved combined data: {len(df)} samples to {CSV_SAVE_PATH}sign_language_data.csv\")"
   ]
  },
  {
   "cell_type": "markdown",
   "id": "023c4e66",
   "metadata": {},
   "source": [
    "### Load and check the data inside the CSV's"
   ]
  },
  {
   "cell_type": "code",
   "execution_count": 99,
   "id": "962a7e44",
   "metadata": {},
   "outputs": [
    {
     "name": "stdout",
     "output_type": "stream",
     "text": [
      "Training set shape: (1205, 64)\n",
      "Test set shape: (61, 64)\n",
      "Validation set shape: (133, 64)\n",
      "\n",
      "Data structure verification:\n",
      "Training DF columns: 64 (should be 64: 63 features + 1 label)\n",
      "Features in training: 63\n",
      "Column names sample: ['0', '1', '2', '3', '4'] ... ['59', '60', '61', '62', '63']\n"
     ]
    }
   ],
   "source": [
    "train_df = pd.read_csv(f'{CSV_SAVE_PATH}sign_language_train.csv')\n",
    "test_df = pd.read_csv(f'{CSV_SAVE_PATH}sign_language_test.csv') \n",
    "valid_df = pd.read_csv(f'{CSV_SAVE_PATH}sign_language_valid.csv')\n",
    "\n",
    "print(\"Training set shape:\", train_df.shape)\n",
    "print(\"Test set shape:\", test_df.shape)\n",
    "print(\"Validation set shape:\", valid_df.shape)\n",
    "\n",
    "\n",
    "print(f\"\\nData structure verification:\")\n",
    "print(f\"Training DF columns: {len(train_df.columns)} (should be 64: 63 features + 1 label)\")\n",
    "print(f\"Features in training: {train_df.shape[1] - 1}\")\n",
    "print(f\"Column names sample: {list(train_df.columns)[:5]} ... {list(train_df.columns)[-5:]}\")"
   ]
  },
  {
   "cell_type": "markdown",
   "id": "b1b588cf",
   "metadata": {},
   "source": [
    "### Check label distribution in training set, test set and validation set"
   ]
  },
  {
   "cell_type": "code",
   "execution_count": 100,
   "id": "45ad1ea5",
   "metadata": {},
   "outputs": [
    {
     "name": "stdout",
     "output_type": "stream",
     "text": [
      "Label distribution in training set:\n",
      "63\n",
      "A    63\n",
      "B    35\n",
      "C    30\n",
      "D    39\n",
      "E    45\n",
      "F    49\n",
      "G    46\n",
      "H    33\n",
      "I    65\n",
      "J    65\n",
      "K    45\n",
      "L    61\n",
      "M    42\n",
      "N    50\n",
      "O    43\n",
      "P    36\n",
      "Q    42\n",
      "R    39\n",
      "S    56\n",
      "T    38\n",
      "U    40\n",
      "V    41\n",
      "W    45\n",
      "X    54\n",
      "Y    41\n",
      "Z    62\n",
      "Name: count, dtype: int64\n",
      "\n",
      "Label distribution in test set:\n",
      "63\n",
      "A    1\n",
      "B    3\n",
      "C    3\n",
      "D    1\n",
      "F    2\n",
      "G    3\n",
      "H    2\n",
      "I    2\n",
      "J    4\n",
      "K    3\n",
      "M    2\n",
      "N    1\n",
      "O    3\n",
      "P    1\n",
      "Q    2\n",
      "R    2\n",
      "S    3\n",
      "T    5\n",
      "U    2\n",
      "V    4\n",
      "W    2\n",
      "X    4\n",
      "Y    2\n",
      "Z    4\n",
      "Name: count, dtype: int64\n",
      "\n",
      "Label distribution in validation set:\n",
      "63\n",
      "A    5\n",
      "B    8\n",
      "C    2\n",
      "D    5\n",
      "E    4\n",
      "F    7\n",
      "G    5\n",
      "H    9\n",
      "I    2\n",
      "J    8\n",
      "K    6\n",
      "L    4\n",
      "M    7\n",
      "N    2\n",
      "O    4\n",
      "P    6\n",
      "Q    4\n",
      "R    7\n",
      "S    4\n",
      "T    6\n",
      "U    7\n",
      "V    5\n",
      "W    3\n",
      "X    1\n",
      "Y    8\n",
      "Z    4\n",
      "Name: count, dtype: int64\n"
     ]
    }
   ],
   "source": [
    "print(\"Label distribution in training set:\")\n",
    "print(train_df.iloc[:, -1].value_counts().sort_index())\n",
    "\n",
    "print(\"\\nLabel distribution in test set:\")\n",
    "print(test_df.iloc[:, -1].value_counts().sort_index())\n",
    "\n",
    "print(\"\\nLabel distribution in validation set:\")\n",
    "print(valid_df.iloc[:, -1].value_counts().sort_index())"
   ]
  },
  {
   "cell_type": "markdown",
   "id": "370c7e4d",
   "metadata": {},
   "source": [
    "## Preprocessing all datasets"
   ]
  },
  {
   "cell_type": "markdown",
   "id": "4be342a5",
   "metadata": {},
   "source": [
    "### Define the ``center_hand`` function, given the landmarks"
   ]
  },
  {
   "cell_type": "code",
   "execution_count": 101,
   "id": "7ffd3f26",
   "metadata": {},
   "outputs": [],
   "source": [
    "def center_hand(landmarks):\n",
    "    wrist = landmarks[0]\n",
    "    centered = landmarks - wrist\n",
    "    \n",
    "    return centered"
   ]
  },
  {
   "cell_type": "markdown",
   "id": "5244746b",
   "metadata": {},
   "source": [
    "### Define the ``scale_hand`` function, given the landmarks"
   ]
  },
  {
   "cell_type": "code",
   "execution_count": 102,
   "id": "e8fc4a8d",
   "metadata": {},
   "outputs": [],
   "source": [
    "def scale_hand(landmarks):\n",
    "    wrist = landmarks[0]\n",
    "    middle_finger_tip = landmarks[12]\n",
    "    scale = np.linalg.norm(middle_finger_tip - wrist)\n",
    "\n",
    "    if scale > 0:\n",
    "        scaled = landmarks / scale\n",
    "    else:\n",
    "        scaled = landmarks\n",
    "\n",
    "    return scaled"
   ]
  },
  {
   "cell_type": "markdown",
   "id": "d07fa09e",
   "metadata": {},
   "source": [
    "### Define the ``preprocess_dataset`` function, given the dataframe"
   ]
  },
  {
   "cell_type": "code",
   "execution_count": 103,
   "id": "ca16942e",
   "metadata": {},
   "outputs": [],
   "source": [
    "def preprocess_dataset(df):\n",
    "    X = df.iloc[:, :-1].values  # all numeric columns (excluding last label column)\n",
    "    y = df.iloc[:, -1].values   # labels (last column)\n",
    "    \n",
    "    print(f\"Original data shape: {X.shape}\")\n",
    "    print(f\"Features: {X.shape[1]} (should be 63 = 21 landmarks * 3 coordinates)\")\n",
    "    print(f\"Labels: {len(y)}\")\n",
    "    \n",
    "    if X.shape[1] != 63:\n",
    "        raise ValueError(f\"Expected 63 features (21 landmarks * 3 coordinates), but got {X.shape[1]}.\")\n",
    "    \n",
    "    X_reshaped = X.reshape(-1, 21, 3) # (num_samples, 21 landmarks, 3 coordinates)\n",
    "    X_centered = np.array([center_hand(hand) for hand in X_reshaped]) # center hand landmarks\n",
    "    X_scaled = np.array([scale_hand(hand) for hand in X_centered]) # scale hand landmarks\n",
    "\n",
    "    X_processed = X_scaled.reshape(-1, 63) # (num_samples, 63 features)\n",
    "    \n",
    "    return X_processed, y"
   ]
  },
  {
   "cell_type": "markdown",
   "id": "e1401b76",
   "metadata": {},
   "source": [
    "### Checking the datastructure first"
   ]
  },
  {
   "cell_type": "code",
   "execution_count": 104,
   "id": "70d7c69d",
   "metadata": {},
   "outputs": [
    {
     "name": "stdout",
     "output_type": "stream",
     "text": [
      "Debugging data structure:\n",
      "Training DataFrame shape: (1205, 64)\n",
      "Number of columns: 64\n",
      "Column names: ['0', '1', '2', '3', '4', '5', '6', '7', '8', '9', '10', '11', '12', '13', '14', '15', '16', '17', '18', '19', '20', '21', '22', '23', '24', '25', '26', '27', '28', '29', '30', '31', '32', '33', '34', '35', '36', '37', '38', '39', '40', '41', '42', '43', '44', '45', '46', '47', '48', '49', '50', '51', '52', '53', '54', '55', '56', '57', '58', '59', '60', '61', '62', '63']\n",
      "\n",
      "First row sample:\n",
      "First 5 values: [np.float64(0.4179784655570984) np.float64(0.936383843421936)\n",
      " np.float64(1.6635594874969684e-06) np.float64(0.341615617275238)\n",
      " np.float64(0.9230197072029114)]\n",
      "Last 5 values: [np.float64(-0.440958559513092) np.float64(0.6528101563453674)\n",
      " np.float64(0.8705712556838989) np.float64(-0.4494030475616455) 'U']\n"
     ]
    }
   ],
   "source": [
    "print(\"Debugging data structure:\")\n",
    "print(f\"Training DataFrame shape: {train_df.shape}\")\n",
    "print(f\"Number of columns: {len(train_df.columns)}\")\n",
    "print(f\"Column names: {list(train_df.columns)}\")\n",
    "\n",
    "print(f\"\\nFirst row sample:\")\n",
    "print(f\"First 5 values: {train_df.iloc[0, :5].values}\")\n",
    "print(f\"Last 5 values: {train_df.iloc[0, -5:].values}\")"
   ]
  },
  {
   "cell_type": "markdown",
   "id": "f9e76cbf",
   "metadata": {},
   "source": [
    "### Preprocessing the datasets"
   ]
  },
  {
   "cell_type": "code",
   "execution_count": 105,
   "id": "d68a2da8",
   "metadata": {},
   "outputs": [
    {
     "name": "stdout",
     "output_type": "stream",
     "text": [
      "Processing training dataset...\n",
      "Original data shape: (1205, 63)\n",
      "Features: 63 (should be 63 = 21 landmarks * 3 coordinates)\n",
      "Labels: 1205\n",
      "\n",
      "Processing test dataset...\n",
      "Original data shape: (61, 63)\n",
      "Features: 63 (should be 63 = 21 landmarks * 3 coordinates)\n",
      "Labels: 61\n",
      "\n",
      "Processing validation dataset...\n",
      "Original data shape: (133, 63)\n",
      "Features: 63 (should be 63 = 21 landmarks * 3 coordinates)\n",
      "Labels: 133\n",
      "\n",
      "Processed training data shape: (1205, 63) 1205\n",
      "Processed test data shape: (61, 63) 61\n",
      "Processed validation data shape: (133, 63) 133\n"
     ]
    }
   ],
   "source": [
    "print(\"Processing training dataset...\")\n",
    "X_train_processed, y_train = preprocess_dataset(train_df)\n",
    "\n",
    "print(\"\\nProcessing test dataset...\")\n",
    "X_test_processed, y_test = preprocess_dataset(test_df)  \n",
    "\n",
    "print(\"\\nProcessing validation dataset...\")\n",
    "X_valid_processed, y_valid = preprocess_dataset(valid_df)\n",
    "\n",
    "print(\"\\nProcessed training data shape:\", X_train_processed.shape, len(y_train))\n",
    "print(\"Processed test data shape:\", X_test_processed.shape, len(y_test))\n",
    "print(\"Processed validation data shape:\", X_valid_processed.shape, len(y_valid))"
   ]
  },
  {
   "cell_type": "markdown",
   "id": "a4cb48fc",
   "metadata": {},
   "source": [
    "### Scale all datasets"
   ]
  },
  {
   "cell_type": "code",
   "execution_count": 106,
   "id": "24ecfafd",
   "metadata": {},
   "outputs": [
    {
     "name": "stdout",
     "output_type": "stream",
     "text": [
      "Final scaled data shapes:\n",
      "Training: (1205, 63)\n",
      "Test: (61, 63)\n",
      "Validation: (133, 63)\n"
     ]
    }
   ],
   "source": [
    "scaler = StandardScaler()\n",
    "X_train_scaled = scaler.fit_transform(X_train_processed)\n",
    "X_test_scaled = scaler.transform(X_test_processed)\n",
    "X_valid_scaled = scaler.transform(X_valid_processed)\n",
    "\n",
    "print(\"Final scaled data shapes:\")\n",
    "print(\"Training:\", X_train_scaled.shape)\n",
    "print(\"Test:\", X_test_scaled.shape) \n",
    "print(\"Validation:\", X_valid_scaled.shape)"
   ]
  },
  {
   "cell_type": "markdown",
   "id": "23cb4d5e",
   "metadata": {},
   "source": [
    "## Save all the data and the scaler in a NumPy ``.npz`` file"
   ]
  },
  {
   "cell_type": "code",
   "execution_count": 107,
   "id": "af787ae8",
   "metadata": {},
   "outputs": [
    {
     "name": "stdout",
     "output_type": "stream",
     "text": [
      "Saved preprocessed data with correct train/test/validation splits!\n",
      "Training: 1205 samples\n",
      "Test: 61 samples\n",
      "Validation: 133 samples\n"
     ]
    }
   ],
   "source": [
    "np.savez(f\"{NPZ_SAVE_PATH}sign_language_preprocessed.npz\", \n",
    "         X_train=X_train_scaled, \n",
    "         X_test=X_test_scaled, \n",
    "         X_valid=X_valid_scaled,\n",
    "         y_train=y_train, \n",
    "         y_test=y_test, \n",
    "         y_valid=y_valid,\n",
    "         scaler=scaler)\n",
    "\n",
    "print(\"Saved preprocessed data with correct train/test/validation splits!\")\n",
    "print(f\"Training: {len(y_train)} samples\")\n",
    "print(f\"Test: {len(y_test)} samples\") \n",
    "print(f\"Validation: {len(y_valid)} samples\")"
   ]
  },
  {
   "cell_type": "markdown",
   "id": "4a84bca2",
   "metadata": {},
   "source": [
    "## Define ``plot_hand`` function, given the landmarks"
   ]
  },
  {
   "cell_type": "code",
   "execution_count": 108,
   "id": "74df4859",
   "metadata": {},
   "outputs": [
    {
     "data": {
      "image/png": "[encoded data removed]",
      "text/plain": [
       "<Figure size 640x480 with 1 Axes>"
      ]
     },
     "metadata": {},
     "output_type": "display_data"
    }
   ],
   "source": [
    "def plot_hand(landmarks, label=None):\n",
    "    plt.figure()\n",
    "    plt.scatter(landmarks[:,0], -landmarks[:,1])\n",
    "    for i, (x,y,_) in enumerate(landmarks):\n",
    "        plt.text(x, -y, str(i))\n",
    "    plt.title(f\"Label: {label}\")\n",
    "    plt.axis(\"equal\")\n",
    "    plt.show()\n",
    "\n",
    "\n",
    "sample_idx = 0\n",
    "if len(X_train_processed) > sample_idx:\n",
    "    sample_landmarks = X_train_processed[sample_idx].reshape(21, 3)\n",
    "    plot_hand(sample_landmarks, y_train[sample_idx])"
   ]
  }
 ],
 "metadata": {
  "kernelspec": {
   "display_name": "Python 3",
   "language": "python",
   "name": "python3"
  },
  "language_info": {
   "codemirror_mode": {
    "name": "ipython",
    "version": 3
   },
   "file_extension": ".py",
   "mimetype": "text/x-python",
   "name": "python",
   "nbconvert_exporter": "python",
   "pygments_lexer": "ipython3",
   "version": "3.12.0"
  }
 },
 "nbformat": 4,
 "nbformat_minor": 5
}
