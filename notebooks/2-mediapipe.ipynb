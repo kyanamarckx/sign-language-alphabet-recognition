{
 "cells": [
  {
   "cell_type": "markdown",
   "id": "00e7bfc1",
   "metadata": {},
   "source": [
    "# **2 - MediaPipe package try-out**"
   ]
  },
  {
   "cell_type": "markdown",
   "id": "6b048ac3",
   "metadata": {},
   "source": [
    "## Imports"
   ]
  },
  {
   "cell_type": "code",
   "execution_count": 1,
   "id": "826b7732",
   "metadata": {},
   "outputs": [],
   "source": [
    "from mediapipe import solutions\n",
    "from mediapipe.tasks import python\n",
    "from mediapipe.tasks.python import vision\n",
    "from mediapipe.framework.formats import landmark_pb2\n",
    "\n",
    "import cv2\n",
    "import numpy as np\n",
    "import mediapipe as mp"
   ]
  },
  {
   "cell_type": "markdown",
   "id": "c0f275cb",
   "metadata": {},
   "source": [
    "## Predefined variables"
   ]
  },
  {
   "cell_type": "code",
   "execution_count": 2,
   "id": "53f9e969",
   "metadata": {},
   "outputs": [],
   "source": [
    "MARGIN = 10 # pixels\n",
    "FONT_SIZE = 1\n",
    "FONT_THICKNESS = 1\n",
    "TEXT_COLOR = (255, 153, 204)\n",
    "\n",
    "IMAGE_PATH = \"../media/image.png\"\n",
    "MODEL_PATH = \"../model/hand_landmarker.task\""
   ]
  },
  {
   "cell_type": "markdown",
   "id": "010c8a4c",
   "metadata": {},
   "source": [
    "## Define 'draw_landmarks_on_image'-function"
   ]
  },
  {
   "cell_type": "code",
   "execution_count": 3,
   "id": "53e4fe87",
   "metadata": {},
   "outputs": [],
   "source": [
    "def draw_landmarks_on_image(rgb_image, detection_result):\n",
    "    hand_landmarks_list = detection_result.hand_landmarks\n",
    "    handedness_list = detection_result.handedness\n",
    "    annotated_image = np.copy(rgb_image)\n",
    "\n",
    "    # Loop through the detected hands to visualize.\n",
    "    for idx in range(len(hand_landmarks_list)):\n",
    "        hand_landmarks = hand_landmarks_list[idx]\n",
    "        handedness = handedness_list[idx]\n",
    "\n",
    "        # Draw the hand landmarks.\n",
    "        hand_landmarks_proto = landmark_pb2.NormalizedLandmarkList()\n",
    "        hand_landmarks_proto.landmark.extend([\n",
    "            landmark_pb2.NormalizedLandmark(x=landmark.x, y=landmark.y, z=landmark.z) for landmark in hand_landmarks\n",
    "        ])\n",
    "        solutions.drawing_utils.draw_landmarks(\n",
    "            annotated_image,\n",
    "            hand_landmarks_proto,\n",
    "            solutions.hands.HAND_CONNECTIONS,\n",
    "            solutions.drawing_styles.get_default_hand_landmarks_style(),\n",
    "            solutions.drawing_styles.get_default_hand_connections_style()\n",
    "        )\n",
    "\n",
    "        # Get the top left corner of the detected hand's bounding box.\n",
    "        height, width, _ = annotated_image.shape\n",
    "        x_coords = [landmark.x for landmark in hand_landmarks]\n",
    "        y_coords = [landmark.y for landmark in hand_landmarks]\n",
    "        text_x = int(min(x_coords) * width)\n",
    "        text_y = int(min(y_coords) * height)\n",
    "\n",
    "        # Draw the handedness (left or right hand) on the image.\n",
    "        cv2.putText(annotated_image, f\"{handedness[0].category_name}\",\n",
    "                    (text_x, text_y), cv2.FONT_HERSHEY_DUPLEX,\n",
    "                    FONT_SIZE, TEXT_COLOR, FONT_THICKNESS, cv2.LINE_AA)\n",
    "        \n",
    "    return annotated_image"
   ]
  },
  {
   "cell_type": "markdown",
   "id": "e234fb2a",
   "metadata": {},
   "source": [
    "## Open a test image (in slightly different way than the documentation does)\n",
    "\n",
    "*You can close the image window by pressing any key on your keyboard.*"
   ]
  },
  {
   "cell_type": "code",
   "execution_count": 4,
   "id": "4ca835bd",
   "metadata": {},
   "outputs": [],
   "source": [
    "img = cv2.imread(IMAGE_PATH)\n",
    "cv2.imshow(\"Image\", img)\n",
    "cv2.waitKey(0)\n",
    "cv2.destroyAllWindows()"
   ]
  },
  {
   "cell_type": "markdown",
   "id": "7f357f00",
   "metadata": {},
   "source": [
    "## Running inference and visualize the results"
   ]
  },
  {
   "cell_type": "code",
   "execution_count": 5,
   "id": "cf82e834",
   "metadata": {},
   "outputs": [],
   "source": [
    "base_options = python.BaseOptions(model_asset_path=MODEL_PATH)\n",
    "options = vision.HandLandmarkerOptions(base_options=base_options, num_hands=2)\n",
    "\n",
    "detector = vision.HandLandmarker.create_from_options(options)\n",
    "\n",
    "image = mp.Image.create_from_file(IMAGE_PATH)\n",
    "\n",
    "detection_result = detector.detect(image)\n",
    "\n",
    "annotated_image = draw_landmarks_on_image(image.numpy_view(), detection_result)\n",
    "cv2.imshow(\"Annotated Image\", annotated_image)\n",
    "cv2.waitKey(0)\n",
    "cv2.destroyAllWindows()"
   ]
  }
 ],
 "metadata": {
  "kernelspec": {
   "display_name": "Python 3",
   "language": "python",
   "name": "python3"
  },
  "language_info": {
   "codemirror_mode": {
    "name": "ipython",
    "version": 3
   },
   "file_extension": ".py",
   "mimetype": "text/x-python",
   "name": "python",
   "nbconvert_exporter": "python",
   "pygments_lexer": "ipython3",
   "version": "3.12.0"
  }
 },
 "nbformat": 4,
 "nbformat_minor": 5
}
